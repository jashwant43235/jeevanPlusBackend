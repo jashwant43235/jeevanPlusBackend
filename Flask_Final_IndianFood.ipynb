{
  "nbformat": 4,
  "nbformat_minor": 0,
  "metadata": {
    "colab": {
      "name": "Flask_Final_IndianFood(2).ipynb",
      "provenance": [],
      "collapsed_sections": []
    },
    "kernelspec": {
      "display_name": "Python 3",
      "name": "python3"
    },
    "language_info": {
      "name": "python"
    }
  },
  "cells": [
    {
      "cell_type": "code",
      "metadata": {
        "colab": {
          "base_uri": "https://localhost:8080/"
        },
        "id": "rs2MRKpCN6bv",
        "outputId": "468a0cd1-9339-48a6-e88b-1ab0df7c3fef"
      },
      "source": [
        "pip install flask"
      ],
      "execution_count": 2,
      "outputs": [
        {
          "output_type": "stream",
          "name": "stdout",
          "text": [
            "Requirement already satisfied: flask in /usr/local/lib/python3.7/dist-packages (1.1.4)\n",
            "Requirement already satisfied: click<8.0,>=5.1 in /usr/local/lib/python3.7/dist-packages (from flask) (7.1.2)\n",
            "Requirement already satisfied: itsdangerous<2.0,>=0.24 in /usr/local/lib/python3.7/dist-packages (from flask) (1.1.0)\n",
            "Requirement already satisfied: Werkzeug<2.0,>=0.15 in /usr/local/lib/python3.7/dist-packages (from flask) (1.0.1)\n",
            "Requirement already satisfied: Jinja2<3.0,>=2.10.1 in /usr/local/lib/python3.7/dist-packages (from flask) (2.11.3)\n",
            "Requirement already satisfied: MarkupSafe>=0.23 in /usr/local/lib/python3.7/dist-packages (from Jinja2<3.0,>=2.10.1->flask) (2.0.1)\n"
          ]
        }
      ]
    },
    {
      "cell_type": "code",
      "metadata": {
        "colab": {
          "base_uri": "https://localhost:8080/"
        },
        "id": "qYvf2GUjN7W6",
        "outputId": "d378ba86-aba7-4c3b-96b2-7fdf4b149390"
      },
      "source": [
        "!pip install flask-cors\n",
        "!pip install flask-ngrok\n"
      ],
      "execution_count": 3,
      "outputs": [
        {
          "output_type": "stream",
          "name": "stdout",
          "text": [
            "Collecting flask-cors\n",
            "  Downloading Flask_Cors-3.0.10-py2.py3-none-any.whl (14 kB)\n",
            "Requirement already satisfied: Six in /usr/local/lib/python3.7/dist-packages (from flask-cors) (1.15.0)\n",
            "Requirement already satisfied: Flask>=0.9 in /usr/local/lib/python3.7/dist-packages (from flask-cors) (1.1.4)\n",
            "Requirement already satisfied: itsdangerous<2.0,>=0.24 in /usr/local/lib/python3.7/dist-packages (from Flask>=0.9->flask-cors) (1.1.0)\n",
            "Requirement already satisfied: click<8.0,>=5.1 in /usr/local/lib/python3.7/dist-packages (from Flask>=0.9->flask-cors) (7.1.2)\n",
            "Requirement already satisfied: Jinja2<3.0,>=2.10.1 in /usr/local/lib/python3.7/dist-packages (from Flask>=0.9->flask-cors) (2.11.3)\n",
            "Requirement already satisfied: Werkzeug<2.0,>=0.15 in /usr/local/lib/python3.7/dist-packages (from Flask>=0.9->flask-cors) (1.0.1)\n",
            "Requirement already satisfied: MarkupSafe>=0.23 in /usr/local/lib/python3.7/dist-packages (from Jinja2<3.0,>=2.10.1->Flask>=0.9->flask-cors) (2.0.1)\n",
            "Installing collected packages: flask-cors\n",
            "Successfully installed flask-cors-3.0.10\n",
            "Collecting flask-ngrok\n",
            "  Downloading flask_ngrok-0.0.25-py3-none-any.whl (3.1 kB)\n",
            "Requirement already satisfied: requests in /usr/local/lib/python3.7/dist-packages (from flask-ngrok) (2.23.0)\n",
            "Requirement already satisfied: Flask>=0.8 in /usr/local/lib/python3.7/dist-packages (from flask-ngrok) (1.1.4)\n",
            "Requirement already satisfied: click<8.0,>=5.1 in /usr/local/lib/python3.7/dist-packages (from Flask>=0.8->flask-ngrok) (7.1.2)\n",
            "Requirement already satisfied: itsdangerous<2.0,>=0.24 in /usr/local/lib/python3.7/dist-packages (from Flask>=0.8->flask-ngrok) (1.1.0)\n",
            "Requirement already satisfied: Werkzeug<2.0,>=0.15 in /usr/local/lib/python3.7/dist-packages (from Flask>=0.8->flask-ngrok) (1.0.1)\n",
            "Requirement already satisfied: Jinja2<3.0,>=2.10.1 in /usr/local/lib/python3.7/dist-packages (from Flask>=0.8->flask-ngrok) (2.11.3)\n",
            "Requirement already satisfied: MarkupSafe>=0.23 in /usr/local/lib/python3.7/dist-packages (from Jinja2<3.0,>=2.10.1->Flask>=0.8->flask-ngrok) (2.0.1)\n",
            "Requirement already satisfied: urllib3!=1.25.0,!=1.25.1,<1.26,>=1.21.1 in /usr/local/lib/python3.7/dist-packages (from requests->flask-ngrok) (1.24.3)\n",
            "Requirement already satisfied: chardet<4,>=3.0.2 in /usr/local/lib/python3.7/dist-packages (from requests->flask-ngrok) (3.0.4)\n",
            "Requirement already satisfied: certifi>=2017.4.17 in /usr/local/lib/python3.7/dist-packages (from requests->flask-ngrok) (2021.10.8)\n",
            "Requirement already satisfied: idna<3,>=2.5 in /usr/local/lib/python3.7/dist-packages (from requests->flask-ngrok) (2.10)\n",
            "Installing collected packages: flask-ngrok\n",
            "Successfully installed flask-ngrok-0.0.25\n"
          ]
        }
      ]
    },
    {
      "cell_type": "code",
      "metadata": {
        "colab": {
          "base_uri": "https://localhost:8080/"
        },
        "id": "pxg6ixHfZsRK",
        "outputId": "5fd80be4-fe3d-4ca4-96df-8ab94d17bc02"
      },
      "source": [
        "!python --version\n"
      ],
      "execution_count": null,
      "outputs": [
        {
          "name": "stdout",
          "output_type": "stream",
          "text": [
            "Python 3.7.12\n"
          ]
        }
      ]
    },
    {
      "cell_type": "code",
      "metadata": {
        "id": "5l5slHG53YCq"
      },
      "source": [
        ""
      ],
      "execution_count": null,
      "outputs": []
    },
    {
      "cell_type": "code",
      "metadata": {
        "colab": {
          "base_uri": "https://localhost:8080/"
        },
        "id": "8yYVq10UNyZV",
        "outputId": "6ce02806-63d0-4642-bbff-4e6a055e0770"
      },
      "source": [
        "from flask import Flask\n",
        "from keras.models import load_model\n",
        "import cv2\n",
        "from keras.models import model_from_json\n",
        "from flask_ngrok import run_with_ngrok\n",
        "import numpy as np\n",
        "from flask_cors import CORS\n",
        "from flask import jsonify\n",
        "import pandas as pd\n",
        "# from __future__ import unicode_literals\n",
        "import json\n",
        "import time\n",
        "from flask import request\n",
        "from keras.preprocessing.image import load_img, img_to_array\n",
        "import base64\n",
        "from copy import deepcopy\n",
        "\n",
        "\n",
        "\n",
        "BASE_PATH = \"/content/drive/MyDrive/HealthAppProject/\"\n",
        "\n",
        "MODEL_PATH = \"/content/drive/MyDrive/HealthAppProject/model.h5\"\n",
        "app = Flask(__name__)\n",
        "run_with_ngrok(app)\n",
        "\n",
        "\n",
        "# LOAD THE MODEL HERE\n",
        "json_file = open(f'{BASE_PATH}model.json', 'r')\n",
        "loaded_model_json = json_file.read()\n",
        "json_file.close()\n",
        "loaded_model = model_from_json(loaded_model_json)\n",
        "\n",
        "# load weights into new model\n",
        "print(f\"{BASE_PATH}model.h5\")\n",
        "\n",
        "#loaded_model.load_weights(f\"{BASE_PATH}model.h5\")\n",
        "\n",
        "loaded_model.load_weights(MODEL_PATH)\n",
        "\n",
        "data_path = f'{BASE_PATH}nutri.csv'\n",
        "\n",
        "\n",
        "\n",
        "@app.route(\"/foodchecker\")\n",
        "def home():\n",
        "    return \"Welcome to flask backend !\"\n",
        "\n",
        "\n",
        "Name = ['mysore_pak', 'unni_appam', 'paneer_butter_masala', 'jalebi', 'biryani', 'chapati']\n",
        "\n",
        "N = []\n",
        "for i in range(len(Name)):\n",
        "    N += [i]\n",
        "\n",
        "mapping = dict(zip(Name, N))\n",
        "reverse_mapping = dict(zip(N, Name))\n",
        "\n",
        "\n",
        "def mapper(value):\n",
        "    return reverse_mapping[value]\n",
        "\n",
        "calorie_data = pd.read_csv(data_path)\n",
        "calorie_data.head()\n",
        "\n",
        "\n",
        "\n",
        "def get_formatted_response(unformatted_dict):\n",
        "  copy_unformatted_dict = {}\n",
        "  for key, value in unformatted_dict.items():\n",
        "    if str(value) == 'nan':\n",
        "      value = False\n",
        "    if \"percentage\" in key.lower():\n",
        "      continue\n",
        "    elif \"food name\" in key.lower():\n",
        "      copy_unformatted_dict[\"FOOD_NAME\"] = value\n",
        "    elif \"gram\" in key.lower():\n",
        "      copy_unformatted_dict[key.split(\"_\")[0].upper()] = value\n",
        "    else:\n",
        "      copy_unformatted_dict[key.upper()] = value\n",
        "  return deepcopy(copy_unformatted_dict)\n",
        "\n",
        "\n",
        "def load_calorie_data(name_of_food):\n",
        "    calorie_data_of_food = calorie_data[calorie_data['Food Name'] == name_of_food]\n",
        "    return calorie_data_of_food\n",
        "\n",
        "\n",
        "def is_obese(userData):\n",
        "  #(16.9 kg / 105.4 cm / 105.4 cm ) x 10,000 \n",
        "  return ((userData['weight'] / userData['height'] / userData['height']) * 10000) > 30\n",
        "\n",
        "\n",
        "\n",
        "\n",
        "def upadteEffects(calorie_data_of_food, expectedMacroNutrients,userData):\n",
        "\n",
        "  if(userData['hasDaibeties'] and  (calorie_data_of_food['category'] == 'sugar').bool()):\n",
        "    calorie_data_of_food['effect_on_sugar'] = True;\n",
        "    \n",
        "  if(userData['hasHighCholestrol'] and (calorie_data_of_food['category'] == 'fat').bool()  ):\n",
        "    expec_per = float(expectedMacroNutrients['FATS']['percentage'])\n",
        "    fats_per = float(calorie_data_of_food['fats_percentage'])\n",
        "    calorie_data_of_food['effect_on_chol'] = fats_per > expec_per or is_obese(user_data);\n",
        "    \n",
        "  return calorie_data_of_food\n",
        "\n",
        "\n",
        "\n",
        "def get_request_data(request):\n",
        "  return json.loads(request.data)\n",
        "\n",
        "\n",
        "\n",
        "@app.route(\"/\",  methods = ['GET', 'POST'])\n",
        "def predict_by_model():\n",
        "    try:\n",
        "\n",
        "        request_data_dict = get_request_data(request)\n",
        "        \n",
        "        img_data = request_data_dict.get('imageUri')\n",
        "\n",
        "        userData = request_data_dict.get('userData')\n",
        "\n",
        "        expectedMacroNutrients = request_data_dict.get('expectedMacroNutrients')\n",
        "      \n",
        "        image_64_decode = base64.decodestring(bytes(img_data, 'utf-8'))\n",
        "      \n",
        "        image_result = open('food.jpg', 'wb') # writeable image \n",
        "\n",
        "        image_result.write(image_64_decode)\n",
        "        \n",
        "        image = load_img(\"food.jpg\", target_size=(40, 40))\n",
        "\n",
        "        '''userData = {\n",
        "          \"age\":53,\n",
        "          \"bodySugar\":111,\n",
        "          \"diastolicBloodPressure\":55,\n",
        "          \"gender\":\"Male\",\n",
        "          \"hasDaibeties\":false,\n",
        "          \"hasHighCholestrol\":false,\n",
        "          \"hasHypertension\":false,\n",
        "          \"height\":153,\n",
        "          \"pregnancyStatus\":false,\n",
        "          \"systolicBloodPressure\":120,\n",
        "          \"weight\":88\n",
        "          }\n",
        "\n",
        "        expectedMacroNutrients = {\n",
        "          \"CALORIES\":{\n",
        "            \"gram\":2167.34375\n",
        "          },\n",
        "          \"CARBS\":{\n",
        "            \"gram\":298,\n",
        "            \"percentage\":55\n",
        "          },\n",
        "          \"FATS\":{\n",
        "            \"gram\":67,\n",
        "            \"percentage\":28\n",
        "          },\n",
        "          \"PROTIEN\":{\n",
        "            \"gram\":125,\n",
        "            \"percentage\":23\n",
        "          }\n",
        "      }'''\n",
        "\n",
        "        # preprocessing the image\n",
        "        image = img_to_array(image)\n",
        "        image = image / 255.0\n",
        "        prediction_image = np.array(image)\n",
        "        prediction_image = np.expand_dims(image, axis=0)\n",
        "        \n",
        "        # predict the model\n",
        "        prediction = loaded_model.predict(prediction_image)\n",
        "        value = np.argmax(prediction)\n",
        "        food_name = mapper(value)\n",
        "        print(\"Prediction is {}.\".format(food_name))\n",
        "\n",
        "        calorie_data_of_food = load_calorie_data(food_name)\n",
        "\n",
        "        calorie_data_of_food = upadteEffects(calorie_data_of_food,expectedMacroNutrients,userData)\n",
        "\n",
        "        calorie_data_of_food = calorie_data_of_food.to_dict(orient='records')\n",
        "\n",
        "        '''dictionary_response = {'name_of_food': food_name, 'CALORIES': calorie_data_of_food['calories'],\n",
        "                               'CARBS': calorie_data_of_food['carbs_gram'], 'FATS': calorie_data_of_food['fats_gram'],\n",
        "                               'PROTIEN': calorie_data_of_food['protien_gram'], 'SUITABLE_DIABETES': '',\n",
        "                               'SUITABLE_CHOLESTROL': '', 'SUITABLE_PREGNANCY': ''}\n",
        "\n",
        "        print(dictionary_response)\n",
        "\n",
        "        json_response = json.dumps(dictionary_response)'''\n",
        "\n",
        "        '''\n",
        "      \"userData\":{\n",
        "      \"age\":53,\n",
        "      \"bodySugar\":111,\n",
        "      \"diastolicBloodPressure\":55,\n",
        "      \"gender\":\"Male\",\n",
        "      \"hasDaibeties\":false,\n",
        "      \"hasHighCholestrol\":false,\n",
        "      \"hasHypertension\":false,\n",
        "      \"height\":153,\n",
        "      \"pregnancyStatus\":false,\n",
        "      \"systolicBloodPressure\":120,\n",
        "      \"weight\":88 }\n",
        "        '''\n",
        "\n",
        "        formatted_response = get_formatted_response(calorie_data_of_food[0])        \n",
        "        print(formatted_response)\n",
        "\n",
        "        return json.dumps(formatted_response)\n",
        "\n",
        "    except Exception as e:\n",
        "        print(\"We have an exception\")\n",
        "        print(e)\n",
        "        return \"\"\n",
        "\n",
        "#/content/model.h5\n",
        "\n",
        "CORS(app)\n",
        "app.run()"
      ],
      "execution_count": 4,
      "outputs": [
        {
          "output_type": "stream",
          "name": "stdout",
          "text": [
            "/content/drive/MyDrive/HealthAppProject/model.h5\n",
            " * Serving Flask app \"__main__\" (lazy loading)\n",
            " * Environment: production\n",
            "\u001b[31m   WARNING: This is a development server. Do not use it in a production deployment.\u001b[0m\n",
            "\u001b[2m   Use a production WSGI server instead.\u001b[0m\n",
            " * Debug mode: off\n"
          ]
        },
        {
          "output_type": "stream",
          "name": "stderr",
          "text": [
            " * Running on http://127.0.0.1:5000/ (Press CTRL+C to quit)\n"
          ]
        },
        {
          "output_type": "stream",
          "name": "stdout",
          "text": [
            " * Running on http://459c-104-196-58-23.ngrok.io\n",
            " * Traffic stats available on http://127.0.0.1:4040\n"
          ]
        },
        {
          "output_type": "stream",
          "name": "stderr",
          "text": [
            "/usr/local/lib/python3.7/dist-packages/ipykernel_launcher.py:126: DeprecationWarning: decodestring() is a deprecated alias since Python 3.1, use decodebytes()\n",
            "127.0.0.1 - - [28/Nov/2021 10:08:13] \"\u001b[37mPOST / HTTP/1.1\u001b[0m\" 200 -\n"
          ]
        },
        {
          "output_type": "stream",
          "name": "stdout",
          "text": [
            "Prediction is biryani.\n",
            "{'FOOD_NAME': 'biryani', 'CARBS': 56.0, 'FATS': 161.0, 'PROTIEN': 19.0, 'CALORIES': 241, 'EFFECT_ON_SUGAR ': False, 'EFFECT_ON_CHOL': False, 'EFFECT_ON_PREGNANCY': False, 'EFFECT_ON_BP': False, 'SERVING_SIZE': False, 'CATEGORY': 'fat'}\n"
          ]
        },
        {
          "output_type": "stream",
          "name": "stderr",
          "text": [
            "127.0.0.1 - - [28/Nov/2021 10:10:20] \"\u001b[37mPOST / HTTP/1.1\u001b[0m\" 200 -\n"
          ]
        },
        {
          "output_type": "stream",
          "name": "stdout",
          "text": [
            "Prediction is chapati.\n",
            "{'FOOD_NAME': 'chapati', 'CARBS': 63.0, 'FATS': 33.0, 'PROTIEN': 10.0, 'CALORIES': 104, 'EFFECT_ON_SUGAR ': False, 'EFFECT_ON_CHOL': False, 'EFFECT_ON_PREGNANCY': False, 'EFFECT_ON_BP': False, 'SERVING_SIZE': False, 'CATEGORY': 'carbs'}\n"
          ]
        },
        {
          "output_type": "stream",
          "name": "stderr",
          "text": [
            "127.0.0.1 - - [28/Nov/2021 10:11:34] \"\u001b[37mPOST / HTTP/1.1\u001b[0m\" 200 -\n"
          ]
        },
        {
          "output_type": "stream",
          "name": "stdout",
          "text": [
            "Prediction is chapati.\n",
            "{'FOOD_NAME': 'chapati', 'CARBS': 63.0, 'FATS': 33.0, 'PROTIEN': 10.0, 'CALORIES': 104, 'EFFECT_ON_SUGAR ': False, 'EFFECT_ON_CHOL': False, 'EFFECT_ON_PREGNANCY': False, 'EFFECT_ON_BP': False, 'SERVING_SIZE': False, 'CATEGORY': 'carbs'}\n"
          ]
        },
        {
          "output_type": "stream",
          "name": "stderr",
          "text": [
            "127.0.0.1 - - [28/Nov/2021 10:12:11] \"\u001b[37mPOST / HTTP/1.1\u001b[0m\" 200 -\n"
          ]
        },
        {
          "output_type": "stream",
          "name": "stdout",
          "text": [
            "Prediction is jalebi.\n",
            "{'FOOD_NAME': 'jalebi', 'CARBS': 33.0, 'FATS': 20.0, 'PROTIEN': 1.0, 'CALORIES': 44, 'EFFECT_ON_SUGAR ': False, 'EFFECT_ON_CHOL': False, 'EFFECT_ON_PREGNANCY': False, 'EFFECT_ON_BP': False, 'SERVING_SIZE': False, 'CATEGORY': 'sugar'}\n"
          ]
        },
        {
          "output_type": "stream",
          "name": "stderr",
          "text": [
            "/usr/local/lib/python3.7/dist-packages/ipykernel_launcher.py:103: SettingWithCopyWarning: \n",
            "A value is trying to be set on a copy of a slice from a DataFrame.\n",
            "Try using .loc[row_indexer,col_indexer] = value instead\n",
            "\n",
            "See the caveats in the documentation: https://pandas.pydata.org/pandas-docs/stable/user_guide/indexing.html#returning-a-view-versus-a-copy\n",
            "127.0.0.1 - - [28/Nov/2021 10:14:07] \"\u001b[37mPOST / HTTP/1.1\u001b[0m\" 200 -\n"
          ]
        },
        {
          "output_type": "stream",
          "name": "stdout",
          "text": [
            "Prediction is biryani.\n",
            "{'FOOD_NAME': 'biryani', 'CARBS': 56.0, 'FATS': 161.0, 'PROTIEN': 19.0, 'CALORIES': 241, 'EFFECT_ON_SUGAR ': False, 'EFFECT_ON_CHOL': True, 'EFFECT_ON_PREGNANCY': False, 'EFFECT_ON_BP': False, 'SERVING_SIZE': False, 'CATEGORY': 'fat'}\n"
          ]
        },
        {
          "output_type": "stream",
          "name": "stderr",
          "text": [
            "127.0.0.1 - - [28/Nov/2021 10:14:55] \"\u001b[37mPOST / HTTP/1.1\u001b[0m\" 200 -\n"
          ]
        },
        {
          "output_type": "stream",
          "name": "stdout",
          "text": [
            "Prediction is chapati.\n",
            "{'FOOD_NAME': 'chapati', 'CARBS': 63.0, 'FATS': 33.0, 'PROTIEN': 10.0, 'CALORIES': 104, 'EFFECT_ON_SUGAR ': False, 'EFFECT_ON_CHOL': False, 'EFFECT_ON_PREGNANCY': False, 'EFFECT_ON_BP': False, 'SERVING_SIZE': False, 'CATEGORY': 'carbs'}\n"
          ]
        },
        {
          "output_type": "stream",
          "name": "stderr",
          "text": [
            "127.0.0.1 - - [28/Nov/2021 10:15:31] \"\u001b[37mPOST / HTTP/1.1\u001b[0m\" 200 -\n"
          ]
        },
        {
          "output_type": "stream",
          "name": "stdout",
          "text": [
            "Prediction is jalebi.\n",
            "{'FOOD_NAME': 'jalebi', 'CARBS': 33.0, 'FATS': 20.0, 'PROTIEN': 1.0, 'CALORIES': 44, 'EFFECT_ON_SUGAR ': False, 'EFFECT_ON_CHOL': False, 'EFFECT_ON_PREGNANCY': False, 'EFFECT_ON_BP': False, 'SERVING_SIZE': False, 'CATEGORY': 'sugar'}\n"
          ]
        },
        {
          "output_type": "stream",
          "name": "stderr",
          "text": [
            "127.0.0.1 - - [28/Nov/2021 10:17:02] \"\u001b[37mPOST / HTTP/1.1\u001b[0m\" 200 -\n"
          ]
        },
        {
          "output_type": "stream",
          "name": "stdout",
          "text": [
            "Prediction is biryani.\n",
            "{'FOOD_NAME': 'biryani', 'CARBS': 56.0, 'FATS': 161.0, 'PROTIEN': 19.0, 'CALORIES': 241, 'EFFECT_ON_SUGAR ': False, 'EFFECT_ON_CHOL': False, 'EFFECT_ON_PREGNANCY': False, 'EFFECT_ON_BP': False, 'SERVING_SIZE': False, 'CATEGORY': 'fat'}\n"
          ]
        },
        {
          "output_type": "stream",
          "name": "stderr",
          "text": [
            "/usr/local/lib/python3.7/dist-packages/ipykernel_launcher.py:98: SettingWithCopyWarning: \n",
            "A value is trying to be set on a copy of a slice from a DataFrame.\n",
            "Try using .loc[row_indexer,col_indexer] = value instead\n",
            "\n",
            "See the caveats in the documentation: https://pandas.pydata.org/pandas-docs/stable/user_guide/indexing.html#returning-a-view-versus-a-copy\n",
            "127.0.0.1 - - [28/Nov/2021 10:17:58] \"\u001b[37mPOST / HTTP/1.1\u001b[0m\" 200 -\n"
          ]
        },
        {
          "output_type": "stream",
          "name": "stdout",
          "text": [
            "Prediction is jalebi.\n",
            "{'FOOD_NAME': 'jalebi', 'CARBS': 33.0, 'FATS': 20.0, 'PROTIEN': 1.0, 'CALORIES': 44, 'EFFECT_ON_SUGAR ': False, 'EFFECT_ON_CHOL': False, 'EFFECT_ON_PREGNANCY': False, 'EFFECT_ON_BP': False, 'SERVING_SIZE': False, 'CATEGORY': 'sugar', 'EFFECT_ON_SUGAR': True}\n"
          ]
        },
        {
          "output_type": "stream",
          "name": "stderr",
          "text": [
            "127.0.0.1 - - [28/Nov/2021 10:20:03] \"\u001b[37mPOST / HTTP/1.1\u001b[0m\" 200 -\n"
          ]
        },
        {
          "output_type": "stream",
          "name": "stdout",
          "text": [
            "Prediction is biryani.\n",
            "{'FOOD_NAME': 'biryani', 'CARBS': 56.0, 'FATS': 161.0, 'PROTIEN': 19.0, 'CALORIES': 241, 'EFFECT_ON_SUGAR ': False, 'EFFECT_ON_CHOL': True, 'EFFECT_ON_PREGNANCY': False, 'EFFECT_ON_BP': False, 'SERVING_SIZE': False, 'CATEGORY': 'fat'}\n"
          ]
        },
        {
          "output_type": "stream",
          "name": "stderr",
          "text": [
            "127.0.0.1 - - [28/Nov/2021 10:20:32] \"\u001b[37mPOST / HTTP/1.1\u001b[0m\" 200 -\n"
          ]
        },
        {
          "output_type": "stream",
          "name": "stdout",
          "text": [
            "Prediction is jalebi.\n",
            "{'FOOD_NAME': 'jalebi', 'CARBS': 33.0, 'FATS': 20.0, 'PROTIEN': 1.0, 'CALORIES': 44, 'EFFECT_ON_SUGAR ': False, 'EFFECT_ON_CHOL': False, 'EFFECT_ON_PREGNANCY': False, 'EFFECT_ON_BP': False, 'SERVING_SIZE': False, 'CATEGORY': 'sugar', 'EFFECT_ON_SUGAR': True}\n"
          ]
        },
        {
          "output_type": "stream",
          "name": "stderr",
          "text": [
            "127.0.0.1 - - [28/Nov/2021 10:21:03] \"\u001b[37mPOST / HTTP/1.1\u001b[0m\" 200 -\n"
          ]
        },
        {
          "output_type": "stream",
          "name": "stdout",
          "text": [
            "Prediction is chapati.\n",
            "{'FOOD_NAME': 'chapati', 'CARBS': 63.0, 'FATS': 33.0, 'PROTIEN': 10.0, 'CALORIES': 104, 'EFFECT_ON_SUGAR ': False, 'EFFECT_ON_CHOL': False, 'EFFECT_ON_PREGNANCY': False, 'EFFECT_ON_BP': False, 'SERVING_SIZE': False, 'CATEGORY': 'carbs'}\n"
          ]
        }
      ]
    },
    {
      "cell_type": "code",
      "metadata": {
        "colab": {
          "base_uri": "https://localhost:8080/"
        },
        "id": "503ZuOB__hyb",
        "outputId": "8c78bb56-235a-4a97-e2da-bf9ffceaa4c7"
      },
      "source": [
        "from google.colab import drive\n",
        "drive.mount('/content/drive')"
      ],
      "execution_count": 1,
      "outputs": [
        {
          "output_type": "stream",
          "name": "stdout",
          "text": [
            "Mounted at /content/drive\n"
          ]
        }
      ]
    }
  ]
}