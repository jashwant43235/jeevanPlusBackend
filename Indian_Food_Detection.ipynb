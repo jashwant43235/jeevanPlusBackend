{
  "nbformat": 4,
  "nbformat_minor": 0,
  "metadata": {
    "colab": {
      "name": "Indian Food Detection.ipynb",
      "provenance": [],
      "collapsed_sections": []
    },
    "kernelspec": {
      "display_name": "Python 3",
      "name": "python3"
    },
    "language_info": {
      "name": "python"
    }
  },
  "cells": [
    {
      "cell_type": "code",
      "metadata": {
        "colab": {
          "base_uri": "https://localhost:8080/"
        },
        "id": "gm4ofhxqipSW",
        "outputId": "44b8f8d9-dd16-4fd8-d19f-60da078c3349"
      },
      "source": [
        "from google.colab import drive\n",
        "drive.mount('/content/drive')"
      ],
      "execution_count": null,
      "outputs": [
        {
          "output_type": "stream",
          "name": "stdout",
          "text": [
            "Drive already mounted at /content/drive; to attempt to forcibly remount, call drive.mount(\"/content/drive\", force_remount=True).\n"
          ]
        }
      ]
    },
    {
      "cell_type": "code",
      "metadata": {
        "id": "qNQ0XjcL0b-O"
      },
      "source": [
        "import zipfile\n",
        "import os\n",
        "import cv2\n",
        "zip_path = '/content/drive/MyDrive/content/IndianFoodDataset/Dataset.zip'\n",
        "\n",
        "with zipfile.ZipFile(zip_path,\"r\") as zip_file_reference:\n",
        "    zip_file_reference.extractall(\"IndianFoodImages\")"
      ],
      "execution_count": null,
      "outputs": []
    },
    {
      "cell_type": "markdown",
      "metadata": {
        "id": "JE2-veBhrIlu"
      },
      "source": [
        "# Read dataset"
      ]
    },
    {
      "cell_type": "code",
      "metadata": {
        "colab": {
          "base_uri": "https://localhost:8080/"
        },
        "id": "LD5hMpZyrKH-",
        "outputId": "7599484c-b55b-4217-8868-959578df6aac"
      },
      "source": [
        "import os\n",
        "import cv2\n",
        "directory_for_data = '/content/IndianFoodImages'\n",
        "Name=[]\n",
        "for file in os.listdir(directory_for_data):\n",
        "    Name+=[file]\n",
        "print(Name)\n",
        "print(len(Name))"
      ],
      "execution_count": null,
      "outputs": [
        {
          "output_type": "stream",
          "name": "stdout",
          "text": [
            "['sheer_korma', 'poornalu', 'double_ka_meetha', 'kalakand', 'pootharekulu', 'aloo_methi', 'bhindi_masala', 'chicken_tikka_masala', 'kuzhi_paniyaram', 'modak', 'gavvalu', 'kadai_paneer', 'shrikhand', 'sohan_halwa', 'anarsa', 'bhatura', 'makki_di_roti_sarson_da_saag', 'doodhpak', 'sandesh', 'biryani', 'gajar_ka_halwa', 'dum_aloo', 'aloo_matar', 'kakinada_khaja', 'qubani_ka_meetha', 'chak_hao_kheer', 'misti_doi', 'aloo_gobi', 'daal_baati_churma', 'aloo_shimla_mirch', 'daal_puri', 'rasgulla', 'kofta', 'malapua', 'kajjikaya', 'chicken_razala', 'bandar_laddu', 'dal_tadka', 'shankarpali', 'boondi', 'adhirasam', 'jalebi', 'chikki', 'kadhi_pakoda', 'cham_cham', 'phirni', 'chapati', 'naan', 'pithe', 'ghevar', 'ras_malai', 'basundi', 'misi_roti', 'litti_chokha', 'palak_paneer', 'paneer_butter_masala', 'sutar_feni', 'poha', 'ariselu', 'unni_appam', 'ledikeni', 'mysore_pak', 'rabri', 'lyangcha', 'dal_makhani', 'kachori', 'lassi', 'sheera', 'dharwad_pedha', 'sohan_papdi', 'karela_bharta', 'chhena_kheeri', 'chicken_tikka', 'chana_masala', 'maach_jhol', 'navrattan_korma', 'gulab_jamun', 'butter_chicken', 'aloo_tikki', 'imarti']\n",
            "80\n"
          ]
        }
      ]
    },
    {
      "cell_type": "code",
      "metadata": {
        "id": "tkFWztW1rVbH"
      },
      "source": [
        "Name = ['mysore_pak', 'unni_appam', 'paneer_butter_masala', 'jalebi', 'biryani', 'chapati','dal_tadka','poha']\n",
        "\n",
        "N=[]\n",
        "for i in range(len(Name)):\n",
        "    N+=[i]\n",
        "    \n",
        "mapping=dict(zip(Name,N)) \n",
        "reverse_mapping=dict(zip(N,Name)) \n",
        "\n",
        "def mapper(value):\n",
        "    return reverse_mapping[value]\n",
        "\n"
      ],
      "execution_count": null,
      "outputs": []
    },
    {
      "cell_type": "code",
      "metadata": {
        "colab": {
          "base_uri": "https://localhost:8080/"
        },
        "id": "LvluuReBrX4H",
        "outputId": "c132075c-4185-40ea-99bc-98de61bffcd6"
      },
      "source": [
        "from tqdm import tqdm\n",
        "from tensorflow.keras.preprocessing.image import load_img, img_to_array\n",
        "training_data=[]\n",
        "testing_data =[]\n",
        "count=0\n",
        "for file in tqdm(Name):\n",
        "    t=0\n",
        "    path=os.path.join(train_dir,file)\n",
        "    for im in os.listdir(path):\n",
        "        image=load_img(os.path.join(path,im), grayscale=False, color_mode='rgb', target_size=(40,40))\n",
        "        image=img_to_array(image)\n",
        "        image=image/255.0\n",
        "        if t<40:\n",
        "            training_data+=[[image,count]]\n",
        "        else:\n",
        "            testing_data +=[[image,count]]\n",
        "        t+=1     \n",
        "    count+=1"
      ],
      "execution_count": null,
      "outputs": [
        {
          "output_type": "stream",
          "name": "stderr",
          "text": [
            "100%|██████████| 8/8 [00:03<00:00,  2.00it/s]\n"
          ]
        }
      ]
    },
    {
      "cell_type": "code",
      "metadata": {
        "id": "bOhrzl6FsZyR"
      },
      "source": [
        "data,labels0=zip(*training_data)\n",
        "test,testlabels0=zip(*testing_data)"
      ],
      "execution_count": null,
      "outputs": []
    },
    {
      "cell_type": "code",
      "metadata": {
        "id": "h51zzUk-IAb_"
      },
      "source": [
        ""
      ],
      "execution_count": null,
      "outputs": []
    },
    {
      "cell_type": "code",
      "metadata": {
        "id": "c16D-ZCusblv"
      },
      "source": [
        "from tensorflow.keras.utils import to_categorical\n",
        "import numpy as np\n",
        "\n",
        "labels1=to_categorical(labels0)\n",
        "labels=np.array(labels1)"
      ],
      "execution_count": null,
      "outputs": []
    },
    {
      "cell_type": "code",
      "metadata": {
        "id": "PQVimOk9scgs"
      },
      "source": [
        "\n",
        "data=np.array(data)\n",
        "test=np.array(test)"
      ],
      "execution_count": null,
      "outputs": []
    },
    {
      "cell_type": "code",
      "metadata": {
        "id": "oNn1vgvosd7u"
      },
      "source": [
        "from sklearn.model_selection import train_test_split\n",
        "\n",
        "trainx,testx,trainy,testy=train_test_split(data,labels,test_size=0.2,random_state=44)"
      ],
      "execution_count": null,
      "outputs": []
    },
    {
      "cell_type": "code",
      "metadata": {
        "colab": {
          "base_uri": "https://localhost:8080/"
        },
        "id": "S4e_411ZsfHM",
        "outputId": "5aa8714c-f1af-460a-d017-a753610240de"
      },
      "source": [
        "print(trainx.shape)\n",
        "print(testx.shape)\n",
        "print(trainy.shape)\n",
        "print(testy.shape)"
      ],
      "execution_count": null,
      "outputs": [
        {
          "output_type": "stream",
          "name": "stdout",
          "text": [
            "(256, 40, 40, 3)\n",
            "(64, 40, 40, 3)\n",
            "(256, 8)\n",
            "(64, 8)\n"
          ]
        }
      ]
    },
    {
      "cell_type": "code",
      "metadata": {
        "id": "u7baCHQeN2z9"
      },
      "source": [
        "\n",
        "from tensorflow.python.keras.preprocessing.image import ImageDataGenerator\n",
        "datagen = ImageDataGenerator(horizontal_flip=True,vertical_flip=True,rotation_range=20,zoom_range=0.5,\n",
        "                        width_shift_range=0.2,height_shift_range=0.2,shear_range=0.1,fill_mode=\"nearest\")\n",
        "\n",
        "\n",
        "# from tensorflow.python.keras.preprocessing.image import ImageDataGenerator\n",
        "# datagen = ImageDataGenerator(horizontal_flip=True,vertical_flip=True,rotation_range=200,zoom_range=0.6,\n",
        "#                         width_shift_range=0.2,height_shift_range=0.2,shear_range=0.1,fill_mode=\"nearest\")"
      ],
      "execution_count": null,
      "outputs": []
    },
    {
      "cell_type": "code",
      "metadata": {
        "id": "50DsjRugOzsh"
      },
      "source": [
        "import numpy as np\n",
        "import os\n",
        "import matplotlib.pyplot as plt\n",
        "import tensorflow as tf\n",
        "import pandas as pd\n",
        "\n",
        "\n",
        "from sklearn.metrics import classification_report, log_loss, accuracy_score\n",
        "from sklearn.model_selection import train_test_split\n",
        "from tqdm import tqdm\n",
        "from tensorflow.keras.utils import to_categorical\n",
        "from tensorflow.keras.preprocessing.image import load_img, img_to_array\n",
        "from tensorflow.python.keras.preprocessing.image import ImageDataGenerator\n"
      ],
      "execution_count": null,
      "outputs": []
    },
    {
      "cell_type": "code",
      "metadata": {
        "id": "QQBisLF7OHsa"
      },
      "source": [
        "pretrained_model3 = tf.keras.applications.DenseNet201(input_shape=(40,40,3),include_top=False,weights='imagenet',pooling='avg')\n",
        "pretrained_model3.trainable = False"
      ],
      "execution_count": null,
      "outputs": []
    },
    {
      "cell_type": "code",
      "metadata": {
        "id": "STMYi1MLOJjU"
      },
      "source": [
        "inputs3 = pretrained_model3.input\n",
        "x3 = tf.keras.layers.Dense(128, activation='relu')(pretrained_model3.output)\n",
        "outputs3 = tf.keras.layers.Dense(8, activation='softmax')(x3)\n",
        "model = tf.keras.Model(inputs=inputs3, outputs=outputs3)"
      ],
      "execution_count": null,
      "outputs": []
    },
    {
      "cell_type": "code",
      "metadata": {
        "id": "7Qzhs0xcOLKs"
      },
      "source": [
        "model.compile(optimizer='adam',loss='categorical_crossentropy',metrics=['accuracy'])"
      ],
      "execution_count": null,
      "outputs": []
    },
    {
      "cell_type": "code",
      "metadata": {
        "colab": {
          "base_uri": "https://localhost:8080/"
        },
        "id": "FcHNGQmqOMcC",
        "outputId": "a52599e5-6a68-41dc-eae0-906150372f11"
      },
      "source": [
        "his=model.fit(datagen.flow(trainx,trainy,batch_size=16),validation_data=(testx,testy),epochs=100)"
      ],
      "execution_count": null,
      "outputs": [
        {
          "output_type": "stream",
          "name": "stdout",
          "text": [
            "Epoch 1/100\n",
            "16/16 [==============================] - 3s 166ms/step - loss: 0.8900 - accuracy: 0.7109 - val_loss: 0.9786 - val_accuracy: 0.6875\n",
            "Epoch 2/100\n",
            "16/16 [==============================] - 3s 170ms/step - loss: 0.7707 - accuracy: 0.7461 - val_loss: 1.1697 - val_accuracy: 0.6250\n",
            "Epoch 3/100\n",
            "16/16 [==============================] - 3s 168ms/step - loss: 0.7178 - accuracy: 0.7773 - val_loss: 0.8580 - val_accuracy: 0.6719\n",
            "Epoch 4/100\n",
            "16/16 [==============================] - 3s 161ms/step - loss: 0.7551 - accuracy: 0.7578 - val_loss: 1.0084 - val_accuracy: 0.7031\n",
            "Epoch 5/100\n",
            "16/16 [==============================] - 3s 167ms/step - loss: 0.7895 - accuracy: 0.7617 - val_loss: 0.9045 - val_accuracy: 0.7188\n",
            "Epoch 6/100\n",
            "16/16 [==============================] - 3s 166ms/step - loss: 0.6577 - accuracy: 0.7773 - val_loss: 0.9118 - val_accuracy: 0.6562\n",
            "Epoch 7/100\n",
            "16/16 [==============================] - 3s 166ms/step - loss: 0.7663 - accuracy: 0.7266 - val_loss: 0.9044 - val_accuracy: 0.7031\n",
            "Epoch 8/100\n",
            "16/16 [==============================] - 3s 168ms/step - loss: 0.8137 - accuracy: 0.7305 - val_loss: 0.9183 - val_accuracy: 0.6562\n",
            "Epoch 9/100\n",
            "16/16 [==============================] - 3s 169ms/step - loss: 0.7466 - accuracy: 0.7344 - val_loss: 0.9007 - val_accuracy: 0.6875\n",
            "Epoch 10/100\n",
            "16/16 [==============================] - 3s 167ms/step - loss: 0.5972 - accuracy: 0.8203 - val_loss: 0.8245 - val_accuracy: 0.7031\n",
            "Epoch 11/100\n",
            "16/16 [==============================] - 3s 165ms/step - loss: 0.7515 - accuracy: 0.7383 - val_loss: 0.9049 - val_accuracy: 0.6719\n",
            "Epoch 12/100\n",
            "16/16 [==============================] - 3s 170ms/step - loss: 0.6017 - accuracy: 0.8047 - val_loss: 0.8433 - val_accuracy: 0.7031\n",
            "Epoch 13/100\n",
            "16/16 [==============================] - 3s 166ms/step - loss: 0.6367 - accuracy: 0.7969 - val_loss: 0.8816 - val_accuracy: 0.7031\n",
            "Epoch 14/100\n",
            "16/16 [==============================] - 3s 165ms/step - loss: 0.6082 - accuracy: 0.8242 - val_loss: 0.8665 - val_accuracy: 0.6094\n",
            "Epoch 15/100\n",
            "16/16 [==============================] - 3s 162ms/step - loss: 0.6370 - accuracy: 0.7578 - val_loss: 0.8980 - val_accuracy: 0.7031\n",
            "Epoch 16/100\n",
            "16/16 [==============================] - 3s 162ms/step - loss: 0.5393 - accuracy: 0.8086 - val_loss: 0.8867 - val_accuracy: 0.7031\n",
            "Epoch 17/100\n",
            "16/16 [==============================] - 3s 164ms/step - loss: 0.6519 - accuracy: 0.7969 - val_loss: 0.9080 - val_accuracy: 0.7031\n",
            "Epoch 18/100\n",
            "16/16 [==============================] - 3s 164ms/step - loss: 0.7059 - accuracy: 0.7617 - val_loss: 0.9304 - val_accuracy: 0.7188\n",
            "Epoch 19/100\n",
            "16/16 [==============================] - 3s 165ms/step - loss: 0.6421 - accuracy: 0.7539 - val_loss: 0.9276 - val_accuracy: 0.6719\n",
            "Epoch 20/100\n",
            "16/16 [==============================] - 3s 168ms/step - loss: 0.5948 - accuracy: 0.8047 - val_loss: 0.9774 - val_accuracy: 0.6406\n",
            "Epoch 21/100\n",
            "16/16 [==============================] - 3s 163ms/step - loss: 0.6599 - accuracy: 0.7891 - val_loss: 0.9566 - val_accuracy: 0.6406\n",
            "Epoch 22/100\n",
            "16/16 [==============================] - 3s 163ms/step - loss: 0.7173 - accuracy: 0.7773 - val_loss: 0.9864 - val_accuracy: 0.6562\n",
            "Epoch 23/100\n",
            "16/16 [==============================] - 3s 164ms/step - loss: 0.5818 - accuracy: 0.8125 - val_loss: 0.8213 - val_accuracy: 0.7031\n",
            "Epoch 24/100\n",
            "16/16 [==============================] - 3s 163ms/step - loss: 0.5904 - accuracy: 0.7969 - val_loss: 0.8721 - val_accuracy: 0.7656\n",
            "Epoch 25/100\n",
            "16/16 [==============================] - 3s 163ms/step - loss: 0.5622 - accuracy: 0.7969 - val_loss: 0.8937 - val_accuracy: 0.7031\n",
            "Epoch 26/100\n",
            "16/16 [==============================] - 3s 162ms/step - loss: 0.5694 - accuracy: 0.8086 - val_loss: 0.9552 - val_accuracy: 0.7031\n",
            "Epoch 27/100\n",
            "16/16 [==============================] - 3s 171ms/step - loss: 0.5970 - accuracy: 0.8008 - val_loss: 0.8378 - val_accuracy: 0.7656\n",
            "Epoch 28/100\n",
            "16/16 [==============================] - 3s 167ms/step - loss: 0.5528 - accuracy: 0.8086 - val_loss: 0.9220 - val_accuracy: 0.7031\n",
            "Epoch 29/100\n",
            "16/16 [==============================] - 3s 165ms/step - loss: 0.5542 - accuracy: 0.8164 - val_loss: 0.9095 - val_accuracy: 0.6719\n",
            "Epoch 30/100\n",
            "16/16 [==============================] - 3s 167ms/step - loss: 0.6028 - accuracy: 0.7617 - val_loss: 1.0095 - val_accuracy: 0.6719\n",
            "Epoch 31/100\n",
            "16/16 [==============================] - 3s 164ms/step - loss: 0.5790 - accuracy: 0.8086 - val_loss: 0.9893 - val_accuracy: 0.6875\n",
            "Epoch 32/100\n",
            "16/16 [==============================] - 3s 162ms/step - loss: 0.5057 - accuracy: 0.8242 - val_loss: 1.0232 - val_accuracy: 0.6875\n",
            "Epoch 33/100\n",
            "16/16 [==============================] - 3s 162ms/step - loss: 0.6062 - accuracy: 0.7930 - val_loss: 1.0505 - val_accuracy: 0.7188\n",
            "Epoch 34/100\n",
            "16/16 [==============================] - 3s 163ms/step - loss: 0.4999 - accuracy: 0.8086 - val_loss: 1.0188 - val_accuracy: 0.6719\n",
            "Epoch 35/100\n",
            "16/16 [==============================] - 3s 168ms/step - loss: 0.4387 - accuracy: 0.8320 - val_loss: 0.9520 - val_accuracy: 0.7031\n",
            "Epoch 36/100\n",
            "16/16 [==============================] - 3s 168ms/step - loss: 0.5042 - accuracy: 0.8438 - val_loss: 1.0231 - val_accuracy: 0.6562\n",
            "Epoch 37/100\n",
            "16/16 [==============================] - 3s 169ms/step - loss: 0.6248 - accuracy: 0.7695 - val_loss: 1.0190 - val_accuracy: 0.6719\n",
            "Epoch 38/100\n",
            "16/16 [==============================] - 3s 163ms/step - loss: 0.5515 - accuracy: 0.8047 - val_loss: 0.8601 - val_accuracy: 0.6562\n",
            "Epoch 39/100\n",
            "16/16 [==============================] - 3s 164ms/step - loss: 0.4405 - accuracy: 0.8398 - val_loss: 1.0725 - val_accuracy: 0.6406\n",
            "Epoch 40/100\n",
            "16/16 [==============================] - 3s 167ms/step - loss: 0.5413 - accuracy: 0.8164 - val_loss: 1.0704 - val_accuracy: 0.6250\n",
            "Epoch 41/100\n",
            "16/16 [==============================] - 3s 163ms/step - loss: 0.4614 - accuracy: 0.8281 - val_loss: 0.9967 - val_accuracy: 0.7344\n",
            "Epoch 42/100\n",
            "16/16 [==============================] - 3s 163ms/step - loss: 0.5210 - accuracy: 0.8086 - val_loss: 0.8925 - val_accuracy: 0.6406\n",
            "Epoch 43/100\n",
            "16/16 [==============================] - 3s 166ms/step - loss: 0.6078 - accuracy: 0.7969 - val_loss: 1.1309 - val_accuracy: 0.6250\n",
            "Epoch 44/100\n",
            "16/16 [==============================] - 3s 163ms/step - loss: 0.5208 - accuracy: 0.8008 - val_loss: 0.9001 - val_accuracy: 0.7031\n",
            "Epoch 45/100\n",
            "16/16 [==============================] - 3s 165ms/step - loss: 0.5043 - accuracy: 0.8281 - val_loss: 0.9730 - val_accuracy: 0.6875\n",
            "Epoch 46/100\n",
            "16/16 [==============================] - 3s 164ms/step - loss: 0.5489 - accuracy: 0.7891 - val_loss: 1.1181 - val_accuracy: 0.6250\n",
            "Epoch 47/100\n",
            "16/16 [==============================] - 3s 162ms/step - loss: 0.5963 - accuracy: 0.8086 - val_loss: 0.9433 - val_accuracy: 0.7656\n",
            "Epoch 48/100\n",
            "16/16 [==============================] - 3s 164ms/step - loss: 0.4905 - accuracy: 0.8125 - val_loss: 0.9299 - val_accuracy: 0.6719\n",
            "Epoch 49/100\n",
            "16/16 [==============================] - 3s 165ms/step - loss: 0.4818 - accuracy: 0.8359 - val_loss: 1.0239 - val_accuracy: 0.6875\n",
            "Epoch 50/100\n",
            "16/16 [==============================] - 3s 166ms/step - loss: 0.5299 - accuracy: 0.7969 - val_loss: 0.9179 - val_accuracy: 0.6719\n",
            "Epoch 51/100\n",
            "16/16 [==============================] - 3s 168ms/step - loss: 0.5791 - accuracy: 0.7969 - val_loss: 1.0399 - val_accuracy: 0.6875\n",
            "Epoch 52/100\n",
            "16/16 [==============================] - 3s 173ms/step - loss: 0.4778 - accuracy: 0.8477 - val_loss: 1.0459 - val_accuracy: 0.6562\n",
            "Epoch 53/100\n",
            "16/16 [==============================] - 3s 169ms/step - loss: 0.5806 - accuracy: 0.7969 - val_loss: 1.0053 - val_accuracy: 0.6719\n",
            "Epoch 54/100\n",
            "16/16 [==============================] - 3s 170ms/step - loss: 0.5720 - accuracy: 0.8164 - val_loss: 1.0275 - val_accuracy: 0.6562\n",
            "Epoch 55/100\n",
            "16/16 [==============================] - 3s 168ms/step - loss: 0.5060 - accuracy: 0.7930 - val_loss: 1.0434 - val_accuracy: 0.6875\n",
            "Epoch 56/100\n",
            "16/16 [==============================] - 3s 175ms/step - loss: 0.4598 - accuracy: 0.8203 - val_loss: 0.9268 - val_accuracy: 0.6562\n",
            "Epoch 57/100\n",
            "16/16 [==============================] - 3s 171ms/step - loss: 0.4403 - accuracy: 0.8633 - val_loss: 1.2324 - val_accuracy: 0.6562\n",
            "Epoch 58/100\n",
            "16/16 [==============================] - 3s 176ms/step - loss: 0.4803 - accuracy: 0.8203 - val_loss: 0.9748 - val_accuracy: 0.7031\n",
            "Epoch 59/100\n",
            "16/16 [==============================] - 3s 177ms/step - loss: 0.4842 - accuracy: 0.8125 - val_loss: 0.9990 - val_accuracy: 0.7031\n",
            "Epoch 60/100\n",
            "16/16 [==============================] - 3s 172ms/step - loss: 0.4118 - accuracy: 0.8438 - val_loss: 0.9191 - val_accuracy: 0.7188\n",
            "Epoch 61/100\n",
            "16/16 [==============================] - 3s 170ms/step - loss: 0.5064 - accuracy: 0.8242 - val_loss: 0.9619 - val_accuracy: 0.7188\n",
            "Epoch 62/100\n",
            "16/16 [==============================] - 3s 168ms/step - loss: 0.4425 - accuracy: 0.8203 - val_loss: 0.9583 - val_accuracy: 0.7188\n",
            "Epoch 63/100\n",
            "16/16 [==============================] - 3s 167ms/step - loss: 0.4916 - accuracy: 0.8086 - val_loss: 0.9441 - val_accuracy: 0.7188\n",
            "Epoch 64/100\n",
            "16/16 [==============================] - 3s 168ms/step - loss: 0.3743 - accuracy: 0.8789 - val_loss: 0.9720 - val_accuracy: 0.6875\n",
            "Epoch 65/100\n",
            "16/16 [==============================] - 3s 166ms/step - loss: 0.4535 - accuracy: 0.8398 - val_loss: 1.0264 - val_accuracy: 0.6562\n",
            "Epoch 66/100\n",
            "16/16 [==============================] - 3s 168ms/step - loss: 0.4685 - accuracy: 0.8711 - val_loss: 0.9374 - val_accuracy: 0.7812\n",
            "Epoch 67/100\n",
            "16/16 [==============================] - 3s 167ms/step - loss: 0.4351 - accuracy: 0.8555 - val_loss: 0.9919 - val_accuracy: 0.6562\n",
            "Epoch 68/100\n",
            "16/16 [==============================] - 3s 175ms/step - loss: 0.4738 - accuracy: 0.8477 - val_loss: 0.9474 - val_accuracy: 0.7500\n",
            "Epoch 69/100\n",
            "16/16 [==============================] - 3s 173ms/step - loss: 0.4184 - accuracy: 0.8633 - val_loss: 0.8165 - val_accuracy: 0.7188\n",
            "Epoch 70/100\n",
            "16/16 [==============================] - 3s 168ms/step - loss: 0.4030 - accuracy: 0.8594 - val_loss: 0.9184 - val_accuracy: 0.7500\n",
            "Epoch 71/100\n",
            "16/16 [==============================] - 3s 164ms/step - loss: 0.4222 - accuracy: 0.8633 - val_loss: 0.8362 - val_accuracy: 0.7344\n",
            "Epoch 72/100\n",
            "16/16 [==============================] - 3s 161ms/step - loss: 0.4121 - accuracy: 0.8633 - val_loss: 0.9910 - val_accuracy: 0.7344\n",
            "Epoch 73/100\n",
            "16/16 [==============================] - 3s 167ms/step - loss: 0.5410 - accuracy: 0.8398 - val_loss: 0.9353 - val_accuracy: 0.6875\n",
            "Epoch 74/100\n",
            "16/16 [==============================] - 3s 166ms/step - loss: 0.3570 - accuracy: 0.8672 - val_loss: 0.8851 - val_accuracy: 0.7344\n",
            "Epoch 75/100\n",
            "16/16 [==============================] - 3s 167ms/step - loss: 0.4604 - accuracy: 0.8320 - val_loss: 0.9045 - val_accuracy: 0.6406\n",
            "Epoch 76/100\n",
            "16/16 [==============================] - 3s 174ms/step - loss: 0.4031 - accuracy: 0.8516 - val_loss: 0.8894 - val_accuracy: 0.7031\n",
            "Epoch 77/100\n",
            "16/16 [==============================] - 3s 167ms/step - loss: 0.4475 - accuracy: 0.8164 - val_loss: 0.8844 - val_accuracy: 0.7031\n",
            "Epoch 78/100\n",
            "16/16 [==============================] - 3s 167ms/step - loss: 0.4124 - accuracy: 0.8594 - val_loss: 0.9781 - val_accuracy: 0.7188\n",
            "Epoch 79/100\n",
            "16/16 [==============================] - 3s 166ms/step - loss: 0.4105 - accuracy: 0.8594 - val_loss: 0.8578 - val_accuracy: 0.6562\n",
            "Epoch 80/100\n",
            "16/16 [==============================] - 3s 169ms/step - loss: 0.4508 - accuracy: 0.8633 - val_loss: 1.0049 - val_accuracy: 0.7031\n",
            "Epoch 81/100\n",
            "16/16 [==============================] - 3s 167ms/step - loss: 0.3793 - accuracy: 0.8672 - val_loss: 0.8645 - val_accuracy: 0.6875\n",
            "Epoch 82/100\n",
            "16/16 [==============================] - 3s 169ms/step - loss: 0.4206 - accuracy: 0.8828 - val_loss: 0.9114 - val_accuracy: 0.7031\n",
            "Epoch 83/100\n",
            "16/16 [==============================] - 3s 173ms/step - loss: 0.3583 - accuracy: 0.8984 - val_loss: 1.0058 - val_accuracy: 0.6875\n",
            "Epoch 84/100\n",
            "16/16 [==============================] - 3s 167ms/step - loss: 0.4848 - accuracy: 0.8281 - val_loss: 0.9276 - val_accuracy: 0.6875\n",
            "Epoch 85/100\n",
            "16/16 [==============================] - 3s 170ms/step - loss: 0.3885 - accuracy: 0.8594 - val_loss: 0.9968 - val_accuracy: 0.7031\n",
            "Epoch 86/100\n",
            "16/16 [==============================] - 3s 168ms/step - loss: 0.4281 - accuracy: 0.8516 - val_loss: 0.9114 - val_accuracy: 0.7500\n",
            "Epoch 87/100\n",
            "16/16 [==============================] - 3s 171ms/step - loss: 0.4566 - accuracy: 0.8164 - val_loss: 0.9079 - val_accuracy: 0.7188\n",
            "Epoch 88/100\n",
            "16/16 [==============================] - 3s 168ms/step - loss: 0.3856 - accuracy: 0.8672 - val_loss: 0.9646 - val_accuracy: 0.7188\n",
            "Epoch 89/100\n",
            "16/16 [==============================] - 3s 167ms/step - loss: 0.3240 - accuracy: 0.8945 - val_loss: 1.0089 - val_accuracy: 0.6719\n",
            "Epoch 90/100\n",
            "16/16 [==============================] - 3s 168ms/step - loss: 0.4587 - accuracy: 0.8438 - val_loss: 1.1449 - val_accuracy: 0.6562\n",
            "Epoch 91/100\n",
            "16/16 [==============================] - 3s 168ms/step - loss: 0.3981 - accuracy: 0.8516 - val_loss: 0.9229 - val_accuracy: 0.7188\n",
            "Epoch 92/100\n",
            "16/16 [==============================] - 3s 167ms/step - loss: 0.3297 - accuracy: 0.8867 - val_loss: 1.0340 - val_accuracy: 0.7188\n",
            "Epoch 93/100\n",
            "16/16 [==============================] - 3s 169ms/step - loss: 0.3837 - accuracy: 0.8789 - val_loss: 1.0253 - val_accuracy: 0.7031\n",
            "Epoch 94/100\n",
            "16/16 [==============================] - 3s 166ms/step - loss: 0.3921 - accuracy: 0.8945 - val_loss: 1.1339 - val_accuracy: 0.6719\n",
            "Epoch 95/100\n",
            "16/16 [==============================] - 3s 166ms/step - loss: 0.2861 - accuracy: 0.9102 - val_loss: 1.0069 - val_accuracy: 0.7031\n",
            "Epoch 96/100\n",
            "16/16 [==============================] - 3s 165ms/step - loss: 0.3811 - accuracy: 0.8477 - val_loss: 1.0453 - val_accuracy: 0.6406\n",
            "Epoch 97/100\n",
            "16/16 [==============================] - 3s 167ms/step - loss: 0.4142 - accuracy: 0.8516 - val_loss: 1.0454 - val_accuracy: 0.6875\n",
            "Epoch 98/100\n",
            "16/16 [==============================] - 3s 168ms/step - loss: 0.3803 - accuracy: 0.8711 - val_loss: 1.0277 - val_accuracy: 0.6562\n",
            "Epoch 99/100\n",
            "16/16 [==============================] - 3s 168ms/step - loss: 0.4365 - accuracy: 0.8555 - val_loss: 0.9439 - val_accuracy: 0.6719\n",
            "Epoch 100/100\n",
            "16/16 [==============================] - 3s 168ms/step - loss: 0.3997 - accuracy: 0.8789 - val_loss: 0.9877 - val_accuracy: 0.7344\n"
          ]
        }
      ]
    },
    {
      "cell_type": "code",
      "metadata": {
        "colab": {
          "base_uri": "https://localhost:8080/"
        },
        "id": "LVJoJvbjtbR8",
        "outputId": "d0c480fd-5d2c-47d2-dd81-d99edd8fba3b"
      },
      "source": [
        "# serialize model to JSON\n",
        "model_json = model.to_json()\n",
        "with open(\"model.json\", \"w\") as json_file:\n",
        "    json_file.write(model_json)\n",
        "# serialize weights to HDF5\n",
        "model.save_weights(\"model.h5\")\n",
        "print(\"Saved model to disk\")\n",
        " "
      ],
      "execution_count": null,
      "outputs": [
        {
          "output_type": "stream",
          "name": "stdout",
          "text": [
            "Saved model to disk\n"
          ]
        }
      ]
    },
    {
      "cell_type": "code",
      "metadata": {
        "colab": {
          "base_uri": "https://localhost:8080/"
        },
        "id": "Yhi-PN6zuHEp",
        "outputId": "d5490ead-1dc5-4909-87f1-ef2266ebc1fc"
      },
      "source": [
        "from keras.models import model_from_json\n",
        "\n",
        "# load json and create model\n",
        "json_file = open('model.json', 'r')\n",
        "loaded_model_json = json_file.read()\n",
        "json_file.close()\n",
        "loaded_model = model_from_json(loaded_model_json)\n",
        "# load weights into new model\n",
        "loaded_model.load_weights(\"model.h5\")\n",
        "print(\"Loaded model from disk\")"
      ],
      "execution_count": null,
      "outputs": [
        {
          "output_type": "stream",
          "name": "stdout",
          "text": [
            "Loaded model from disk\n"
          ]
        }
      ]
    },
    {
      "cell_type": "code",
      "metadata": {
        "id": "awOy0DCjtTAH"
      },
      "source": [
        "\n",
        "\n",
        "image=load_img(\"/content/IndianFoodImages/biryani/07ca591901.jpg\",target_size=(40,40))\n",
        "\n",
        "image=img_to_array(image) \n",
        "image=image/255.0\n",
        "prediction_image=np.array(image)\n",
        "prediction_image= np.expand_dims(image, axis=0)\n",
        "\n",
        "\n"
      ],
      "execution_count": null,
      "outputs": []
    },
    {
      "cell_type": "code",
      "metadata": {
        "colab": {
          "base_uri": "https://localhost:8080/"
        },
        "id": "VVqJN9FFOOkR",
        "outputId": "9fb002bd-65c7-4832-fd90-a263d5158049"
      },
      "source": [
        "prediction=loaded_model.predict(prediction_image)\n",
        "value=np.argmax(prediction)\n",
        "move_name=mapper(value)\n",
        "print(\"Prediction is {}.\".format(move_name))"
      ],
      "execution_count": null,
      "outputs": [
        {
          "output_type": "stream",
          "name": "stdout",
          "text": [
            "Prediction is biryani.\n"
          ]
        }
      ]
    },
    {
      "cell_type": "code",
      "metadata": {
        "id": "JQ74QGPJtWAA",
        "colab": {
          "base_uri": "https://localhost:8080/"
        },
        "outputId": "bfcbfd68-8c15-4077-d202-b7bbd34651f2"
      },
      "source": [
        "\n",
        "\n",
        "print(test.shape)\n",
        "pred2=model.predict(test)\n",
        "print(pred2.shape)\n",
        "\n",
        "PRED=[]\n",
        "for item in pred2:\n",
        "    value2=np.argmax(item)      \n",
        "    PRED+=[value2]\n",
        "\n"
      ],
      "execution_count": null,
      "outputs": [
        {
          "output_type": "stream",
          "name": "stdout",
          "text": [
            "(60, 40, 40, 3)\n",
            "(60, 6)\n"
          ]
        }
      ]
    },
    {
      "cell_type": "code",
      "metadata": {
        "id": "atdQuP9htXVA"
      },
      "source": [
        "ANS=testlabels0"
      ],
      "execution_count": null,
      "outputs": []
    },
    {
      "cell_type": "code",
      "metadata": {
        "id": "hg7ng8nzOQcC",
        "colab": {
          "base_uri": "https://localhost:8080/",
          "height": 300
        },
        "outputId": "42d91fa0-4e0c-4308-9007-dc1cd8bfc220"
      },
      "source": [
        "get_acc = his.history['accuracy']\n",
        "value_acc = his.history['val_accuracy']\n",
        "get_loss = his.history['loss']\n",
        "validation_loss = his.history['val_loss']\n",
        "\n",
        "epochs = range(len(get_acc))\n",
        "plt.plot(epochs, get_acc, 'r', label='Training accuracy')\n",
        "plt.plot(epochs, value_acc, 'b', label='Validation accuracy')\n",
        "plt.title('Training vs validation accuracy')\n",
        "plt.legend(loc=0)\n",
        "plt.figure()\n",
        "plt.show()\n",
        "\n"
      ],
      "execution_count": null,
      "outputs": [
        {
          "output_type": "display_data",
          "data": {
            "image/png": "[encoded data removed]",
            "text/plain": [
              "<Figure size 432x288 with 1 Axes>"
            ]
          },
          "metadata": {
            "needs_background": "light"
          }
        },
        {
          "output_type": "display_data",
          "data": {
            "text/plain": [
              "<Figure size 432x288 with 0 Axes>"
            ]
          },
          "metadata": {}
        }
      ]
    },
    {
      "cell_type": "code",
      "metadata": {
        "id": "YYzxegEiOSf-",
        "colab": {
          "base_uri": "https://localhost:8080/",
          "height": 300
        },
        "outputId": "713b26fc-0ed4-4331-c1ef-d657647c9d3b"
      },
      "source": [
        "epochs = range(len(get_loss))\n",
        "plt.plot(epochs, get_loss, 'r', label='Loss of Training data')\n",
        "plt.plot(epochs, validation_loss, 'b', label='Loss of Validation data')\n",
        "plt.title('Training vs validation loss')\n",
        "plt.legend(loc=0)\n",
        "plt.figure()\n",
        "plt.show()"
      ],
      "execution_count": null,
      "outputs": [
        {
          "output_type": "display_data",
          "data": {
            "image/png": "[encoded data removed]",
            "text/plain": [
              "<Figure size 432x288 with 1 Axes>"
            ]
          },
          "metadata": {
            "needs_background": "light"
          }
        },
        {
          "output_type": "display_data",
          "data": {
            "text/plain": [
              "<Figure size 432x288 with 0 Axes>"
            ]
          },
          "metadata": {}
        }
      ]
    },
    {
      "cell_type": "markdown",
      "metadata": {
        "id": "KwN2L86awlv3"
      },
      "source": [
        "# Flask Backend\n"
      ]
    },
    {
      "cell_type": "code",
      "metadata": {
        "id": "bpvBECcnw0mj",
        "colab": {
          "base_uri": "https://localhost:8080/"
        },
        "outputId": "5e8606fc-68d0-40ad-c1bd-e9df7c028837"
      },
      "source": [
        "pip install flask"
      ],
      "execution_count": null,
      "outputs": [
        {
          "output_type": "stream",
          "name": "stdout",
          "text": [
            "Requirement already satisfied: flask in /usr/local/lib/python3.7/dist-packages (1.1.4)\n",
            "Requirement already satisfied: click<8.0,>=5.1 in /usr/local/lib/python3.7/dist-packages (from flask) (7.1.2)\n",
            "Requirement already satisfied: Werkzeug<2.0,>=0.15 in /usr/local/lib/python3.7/dist-packages (from flask) (1.0.1)\n",
            "Requirement already satisfied: itsdangerous<2.0,>=0.24 in /usr/local/lib/python3.7/dist-packages (from flask) (1.1.0)\n",
            "Requirement already satisfied: Jinja2<3.0,>=2.10.1 in /usr/local/lib/python3.7/dist-packages (from flask) (2.11.3)\n",
            "Requirement already satisfied: MarkupSafe>=0.23 in /usr/local/lib/python3.7/dist-packages (from Jinja2<3.0,>=2.10.1->flask) (2.0.1)\n"
          ]
        }
      ]
    },
    {
      "cell_type": "code",
      "metadata": {
        "id": "4Gv4GUImw2KH",
        "colab": {
          "base_uri": "https://localhost:8080/"
        },
        "outputId": "30fa12bc-e23d-4b8a-a4bc-e7d27f7a0833"
      },
      "source": [
        "pip install -U flask-cors"
      ],
      "execution_count": null,
      "outputs": [
        {
          "output_type": "stream",
          "name": "stdout",
          "text": [
            "Requirement already satisfied: flask-cors in /usr/local/lib/python3.7/dist-packages (3.0.10)\n",
            "Requirement already satisfied: Six in /usr/local/lib/python3.7/dist-packages (from flask-cors) (1.15.0)\n",
            "Requirement already satisfied: Flask>=0.9 in /usr/local/lib/python3.7/dist-packages (from flask-cors) (1.1.4)\n",
            "Requirement already satisfied: Jinja2<3.0,>=2.10.1 in /usr/local/lib/python3.7/dist-packages (from Flask>=0.9->flask-cors) (2.11.3)\n",
            "Requirement already satisfied: itsdangerous<2.0,>=0.24 in /usr/local/lib/python3.7/dist-packages (from Flask>=0.9->flask-cors) (1.1.0)\n",
            "Requirement already satisfied: Werkzeug<2.0,>=0.15 in /usr/local/lib/python3.7/dist-packages (from Flask>=0.9->flask-cors) (1.0.1)\n",
            "Requirement already satisfied: click<8.0,>=5.1 in /usr/local/lib/python3.7/dist-packages (from Flask>=0.9->flask-cors) (7.1.2)\n",
            "Requirement already satisfied: MarkupSafe>=0.23 in /usr/local/lib/python3.7/dist-packages (from Jinja2<3.0,>=2.10.1->Flask>=0.9->flask-cors) (2.0.1)\n"
          ]
        }
      ]
    },
    {
      "cell_type": "code",
      "metadata": {
        "id": "EAJakgENKnwv"
      },
      "source": [
        ""
      ],
      "execution_count": null,
      "outputs": []
    },
    {
      "cell_type": "code",
      "metadata": {
        "colab": {
          "base_uri": "https://localhost:8080/"
        },
        "id": "XTHxG977Kn5w",
        "outputId": "3430ba85-6ec4-4079-a0df-5ff0383981d2"
      },
      "source": [
        "!python --version"
      ],
      "execution_count": null,
      "outputs": [
        {
          "output_type": "stream",
          "name": "stdout",
          "text": [
            "Python 3.7.12\n"
          ]
        }
      ]
    },
    {
      "cell_type": "code",
      "metadata": {
        "id": "OYnWd0Nmw4NX",
        "colab": {
          "base_uri": "https://localhost:8080/"
        },
        "outputId": "06a09868-c5f3-4526-88ed-3e2cf7099570"
      },
      "source": [
        "from flask import Flask\n",
        "from flask_ngrok import run_with_ngrok\n",
        "from keras.models import load_model\n",
        "import cv2\n",
        "import numpy as np\n",
        "from flask_cors import CORS\n",
        "from flask import jsonify\n",
        "from __future__ import unicode_literals\n",
        "import json\n",
        "import time\n",
        "from flask import request\n",
        "app = Flask(__name__)\n",
        "run_with_ngrok(app)  \n",
        "\n",
        "\n",
        "# LOAD THE MODEL HERE\n",
        "json_file = open('model.json', 'r')\n",
        "loaded_model_json = json_file.read()\n",
        "json_file.close()\n",
        "loaded_model = model_from_json(loaded_model_json)\n",
        "\n",
        "# load weights into new model\n",
        "loaded_model.load_weights(\"model.h5\")\n",
        "\n",
        "data_path = '/content/drive/MyDrive/content/nutri.csv'\n",
        "\n",
        "\n",
        "@app.route(\"/foodchecker\")\n",
        "def home():\n",
        "    return \"Welcome to flask backend !\"\n",
        "\n",
        "calorie_data = pd.read_csv(data_path)\n",
        "calorie_data.head()\n",
        "def load_calorie_data(name_of_food):\n",
        "  calorie_data_of_food = calorie_data[calorie_data['Food Name']==name_]\n",
        "  return calorie_data_of_food\n",
        "\n",
        "@app.route(\"/food_check\")  \n",
        "def predict_by_model():\n",
        "    try:\n",
        "      image=load_img(\"/content/IndianFoodImages/adhirasam/02d09e872d.jpg\",target_size=(40,40))\n",
        "\n",
        "      # preprocessing the image\n",
        "      image=img_to_array(image) \n",
        "      image=image/255.0\n",
        "      prediction_image=np.array(image)\n",
        "      prediction_image= np.expand_dims(image, axis=0)\n",
        "      # predict the model\n",
        "      prediction= loaded_model.predict(prediction_image)\n",
        "      value=np.argmax(prediction)\n",
        "      food_name =mapper(value)\n",
        "      print(\"Prediction is {}.\".format(food_name ))\n",
        "\n",
        "      calorie_data_of_food = load_calorie_data(food_name)\n",
        "      dictionary_response = {'name_of_food':food_name,'CALORIES':calorie_data_of_food['calories'],'CARBS':calorie_data_of_food['carbs_gram'],'FATS':calorie_data_of_food['fats_gram'],'PROTIEN':calorie_data_of_food['protien_gram'],'SUITABLE_DIABETES':None,'SUITABLE_CHOLESTROL':None,'SUITABLE_PREGNANCY':None}\n",
        "      json_response = json.load(dictionary_response)\n",
        "\n",
        "      return json_response\n",
        "\n",
        "    except Exception as e:\n",
        "      return jsonify(error=str(e))\n",
        "     \n",
        "     \n",
        "CORS(app)\n",
        "app.run()"
      ],
      "execution_count": null,
      "outputs": [
        {
          "output_type": "stream",
          "name": "stdout",
          "text": [
            " * Serving Flask app \"__main__\" (lazy loading)\n",
            " * Environment: production\n",
            "\u001b[31m   WARNING: This is a development server. Do not use it in a production deployment.\u001b[0m\n",
            "\u001b[2m   Use a production WSGI server instead.\u001b[0m\n",
            " * Debug mode: off\n"
          ]
        },
        {
          "output_type": "stream",
          "name": "stderr",
          "text": [
            " * Running on http://127.0.0.1:5000/ (Press CTRL+C to quit)\n"
          ]
        },
        {
          "output_type": "stream",
          "name": "stdout",
          "text": [
            " * Running on http://525b-35-239-166-174.ngrok.io\n",
            " * Traffic stats available on http://127.0.0.1:4040\n"
          ]
        }
      ]
    }
  ]
}